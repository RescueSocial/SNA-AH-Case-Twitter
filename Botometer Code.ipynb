{
 "cells": [
  {
   "cell_type": "markdown",
   "metadata": {},
   "source": [
    "# ULTRA Plan using Botometer "
   ]
  },
  {
   "cell_type": "code",
   "execution_count": 9,
   "metadata": {},
   "outputs": [],
   "source": [
    "import pandas as pd\n",
    "import numpy as np\n",
    "import botometer\n",
    "from time import sleep\n",
    "from tqdm import tqdm, tqdm_notebook"
   ]
  },
  {
   "cell_type": "code",
   "execution_count": 10,
   "metadata": {},
   "outputs": [],
   "source": [
    "df = pd.read_csv('users_2021.csv')\n"
   ]
  },
  {
   "cell_type": "code",
   "execution_count": 11,
   "metadata": {},
   "outputs": [],
   "source": [
    "\n",
    "rapidapi_key = \"*******************************************\"\n",
    "\n",
    "twitter_app_auth = {\n",
    "    'consumer_key': '***********************************',\n",
    "    'consumer_secret': '****************************************',\n",
    "    'access_token': '*-*********************************',\n",
    "    'access_token_secret': '**************************************',\n",
    "  }\n",
    "blt_twitter = botometer.BotometerLite(rapidapi_key=rapidapi_key, **twitter_app_auth)\n",
    "#row = 'ProphetOfTru7h'\n",
    "#result = blt_twitter.check_accounts_from_screen_names([row])\n",
    "#print(result)"
   ]
  },
  {
   "cell_type": "code",
   "execution_count": null,
   "metadata": {},
   "outputs": [],
   "source": [
    "cnt = 29000\n",
    "for row in tqdm_notebook(df['user.screen_name'][29000:43000]):\n",
    "    \n",
    "    try:\n",
    "        score = blt_twitter.check_accounts_from_screen_names([row])\n",
    "        df.loc[cnt,'Bot_Score'] = score\n",
    "        cnt += 1\n",
    "        \n",
    "    except:\n",
    "        cnt += 1\n",
    "df.to_csv('users_botometer_21_Botscore.csv')"
   ]
  },
  {
   "cell_type": "code",
   "execution_count": null,
   "metadata": {},
   "outputs": [],
   "source": [
    "df.to_csv('users_botometer_21_Botscore.csv')"
   ]
  },
  {
   "cell_type": "markdown",
   "metadata": {},
   "source": [
    "# Pro Plan Using Botometer"
   ]
  },
  {
   "cell_type": "code",
   "execution_count": 47,
   "metadata": {},
   "outputs": [
    {
     "name": "stdout",
     "output_type": "stream",
     "text": [
      "{'cap': {'english': 0.2787259978325127, 'universal': 0.31739450135566455}, 'display_scores': {'english': {'astroturf': 0.1, 'fake_follower': 0.5, 'financial': 0.1, 'other': 0.4, 'overall': 0.2, 'self_declared': 0.0, 'spammer': 0.1}, 'universal': {'astroturf': 0.2, 'fake_follower': 0.2, 'financial': 0.2, 'other': 1.0, 'overall': 0.2, 'self_declared': 0.0, 'spammer': 0.2}}, 'raw_scores': {'english': {'astroturf': 0.02, 'fake_follower': 0.1, 'financial': 0.02, 'other': 0.09, 'overall': 0.03, 'self_declared': 0.0, 'spammer': 0.02}, 'universal': {'astroturf': 0.03, 'fake_follower': 0.03, 'financial': 0.03, 'other': 0.2, 'overall': 0.04, 'self_declared': 0.0, 'spammer': 0.04}}, 'user': {'majority_lang': 'en', 'user_data': {'id_str': '85004151', 'screen_name': 'LandAstronaut'}}}\n"
     ]
    }
   ],
   "source": [
    "rapidapi_key = \"****************************************\"\n",
    "\n",
    "twitter_app_auth = {\n",
    "    'consumer_key': '************************************',\n",
    "    'consumer_secret': '**************************',\n",
    "    'access_token': '********************************',\n",
    "    'access_token_secret': '*************************************************',\n",
    "  }\n",
    "bom = botometer.Botometer(wait_on_ratelimit=True,\n",
    "                          rapidapi_key=rapidapi_key,\n",
    "                          **twitter_app_auth)\n",
    "\n",
    "# Check a single account by screen name\n",
    "result = bom.check_account('@LandAstronaut')\n",
    "\n",
    "#print(result)\n",
    "# Check a single account by id\n",
    "#result = bom.check_account(1548959833)\n",
    "\n",
    "# Check a sequence of accounts\n",
    "#accounts = ['@clayadavis', '@onurvarol', '@jabawack']\n",
    "#for screen_name, result in bom.check_accounts_in(accounts):\n",
    "    # Do stuff with `screen_name` and `result`"
   ]
  },
  {
   "cell_type": "code",
   "execution_count": 52,
   "metadata": {},
   "outputs": [
    {
     "name": "stderr",
     "output_type": "stream",
     "text": [
      "<ipython-input-52-3fcedff964ad>:2: TqdmDeprecationWarning: This function will be removed in tqdm==5.0.0\n",
      "Please use `tqdm.notebook.tqdm` instead of `tqdm.tqdm_notebook`\n",
      "  for row in tqdm_notebook(df['user.screen_name'][5:1995]):\n"
     ]
    },
    {
     "data": {
      "application/vnd.jupyter.widget-view+json": {
       "model_id": "310a3d17e6df4e97a94a09fd9247b807",
       "version_major": 2,
       "version_minor": 0
      },
      "text/plain": [
       "HBox(children=(FloatProgress(value=0.0, max=1990.0), HTML(value='')))"
      ]
     },
     "metadata": {},
     "output_type": "display_data"
    },
    {
     "name": "stdout",
     "output_type": "stream",
     "text": [
      "\n"
     ]
    }
   ],
   "source": [
    "cnt = 0\n",
    "for row in tqdm_notebook(df['user.screen_name'][5:1995]):\n",
    "    \n",
    "    try:\n",
    "        result = bom.check_account('@'+row)\n",
    "        \n",
    "        # Cap English Score\n",
    "        cap_en = result['cap']['english']\n",
    "\n",
    "        # Cap Universal Score\n",
    "        cap_uni = result['cap']['universal']\n",
    "\n",
    "        # Display English Scores\n",
    "        dis_en_astroturf = result['display_scores']['english']['astroturf']\n",
    "        dis_en_fake_follower = result['display_scores']['english']['fake_follower']\n",
    "        dis_en_financial = result['display_scores']['english']['financial']\n",
    "        dis_en_other = result['display_scores']['english']['other']\n",
    "        dis_en_overall = result['display_scores']['english']['overall']\n",
    "        dis_en_self_declared = result['display_scores']['english']['self_declared']\n",
    "        dis_en_spammer = result['display_scores']['english']['spammer']\n",
    "\n",
    "        # Display Universal Scores\n",
    "        dis_uni_astroturf = result['display_scores']['universal']['astroturf']\n",
    "        dis_uni_fake_follower = result['display_scores']['universal']['fake_follower']\n",
    "        dis_uni_financial = result['display_scores']['universal']['financial']\n",
    "        dis_uni_other = result['display_scores']['universal']['other']\n",
    "        dis_uni_overall = result['display_scores']['universal']['overall']\n",
    "        dis_uni_self_declared = result['display_scores']['universal']['self_declared']\n",
    "        dis_uni_spammer = result['display_scores']['universal']['spammer']\n",
    "\n",
    "        # Raw English Scores\n",
    "        ra_en_astroturf = result['raw_scores']['english']['astroturf']\n",
    "        ra_en_fake_follower = result['raw_scores']['english']['fake_follower']\n",
    "        ra_en_financial = result['raw_scores']['english']['financial']\n",
    "        ra_en_other = result['raw_scores']['english']['other']\n",
    "        ra_en_overall = result['raw_scores']['english']['overall']\n",
    "        ra_en_self_declared = result['raw_scores']['english']['self_declared']\n",
    "        ra_en_spammer = result['raw_scores']['english']['spammer']\n",
    "\n",
    "        # Raw Universal Scores\n",
    "        ra_uni_astroturf = result['raw_scores']['universal']['astroturf']\n",
    "        ra_uni_fake_follower = result['raw_scores']['universal']['fake_follower']\n",
    "        ra_uni_financial = result['raw_scores']['universal']['financial']\n",
    "        ra_uni_other = result['raw_scores']['universal']['other']\n",
    "        ra_uni_overall = result['raw_scores']['universal']['overall']\n",
    "        ra_uni_self_declared = result['raw_scores']['universal']['self_declared']\n",
    "        ra_uni_spammer = result['raw_scores']['universal']['spammer']\n",
    "\n",
    "        \n",
    "        df.loc[cnt,'Cap_En'] = cap_en\n",
    "        df.loc[cnt,'Cap_uni'] = cap_uni\n",
    "        \n",
    "        \n",
    "        df.loc[cnt,'dis_en_astroturf'] = dis_en_astroturf\n",
    "        df.loc[cnt,'dis_en_fake_follower'] = dis_en_fake_follower\n",
    "        df.loc[cnt,'dis_en_financial'] = dis_en_financial\n",
    "        df.loc[cnt,'dis_en_other'] = dis_en_other\n",
    "        df.loc[cnt,'dis_en_overall,'] = dis_en_overall\n",
    "        df.loc[cnt,'dis_en_self_declared'] = dis_en_self_declared\n",
    "        df.loc[cnt,'dis_en_spammer '] = dis_en_spammer \n",
    "\n",
    "\n",
    "        df.loc[cnt,'dis_uni_astroturf'] = dis_uni_astroturf\n",
    "        df.loc[cnt,'dis_uni_fake_follower'] = dis_uni_fake_follower\n",
    "        df.loc[cnt,'dis_uni_financial'] = dis_uni_financial\n",
    "        df.loc[cnt,'dis_uni_other'] = dis_uni_other\n",
    "        df.loc[cnt,'dis_uni_overall'] = dis_uni_overall\n",
    "        df.loc[cnt,'dis_uni_self_declared'] = dis_uni_self_declared\n",
    "        df.loc[cnt,'dis_uni_spammer'] = dis_uni_spammer\n",
    "\n",
    "\n",
    "        df.loc[cnt,'ra_en_astroturf'] = ra_en_astroturf\n",
    "        df.loc[cnt,'ra_en_fake_follower'] = ra_en_fake_follower\n",
    "        df.loc[cnt,'ra_en_financial'] = ra_en_financial\n",
    "        df.loc[cnt,'ra_en_other'] = ra_en_other\n",
    "        df.loc[cnt,'ra_en_overall'] = ra_en_overall\n",
    "        df.loc[cnt,'ra_en_self_declared'] = ra_en_self_declared\n",
    "        df.loc[cnt,'ra_en_spammer'] = ra_en_spammer\n",
    "\n",
    "        df.loc[cnt,'ra_uni_astroturf'] = ra_uni_astroturf\n",
    "        df.loc[cnt,'ra_uni_fake_follower'] = ra_uni_fake_follower\n",
    "        df.loc[cnt,'ra_uni_financial'] = ra_uni_financial\n",
    "        df.loc[cnt,'ra_uni_other'] = ra_uni_other\n",
    "        df.loc[cnt,'ra_uni_overall'] = ra_uni_overall\n",
    "        df.loc[cnt,'ra_uni_self_declared'] = ra_uni_self_declared\n",
    "        df.loc[cnt,'ra_uni_spammer'] = ra_uni_spammer\n",
    "\n",
    "        cnt += 1\n",
    "    except:\n",
    "        cnt += 1\n",
    "df.to_csv('users_botometer_21.csv')"
   ]
  },
  {
   "cell_type": "code",
   "execution_count": 49,
   "metadata": {},
   "outputs": [],
   "source": [
    "df.to_csv('users_botometer_21.csv')"
   ]
  },
  {
   "cell_type": "code",
   "execution_count": null,
   "metadata": {},
   "outputs": [],
   "source": []
  },
  {
   "cell_type": "code",
   "execution_count": 18,
   "metadata": {},
   "outputs": [],
   "source": [
    "cap_en_list , cap_uni_list = [], []\n",
    "\n",
    "dis_en_astroturf_list ,\n",
    "dis_en_fake_follower_list ,\n",
    "dis_en_financial_list ,\n",
    "dis_en_other_list,\n",
    "dis_en_overall_list ,\n",
    "dis_en_self_declared_list ,\n",
    "dis_en_spammer = [],[],[],[],[],[],[]\n",
    "\n",
    "\n",
    "dis_uni_astroturf_list ,\n",
    "dis_uni_fake_follower_list ,\n",
    "dis_uni_financial_list ,\n",
    "dis_uni_other_list,\n",
    "dis_uni_overall_list ,\n",
    "dis_uni_self_declared_list ,\n",
    "dis_uni_spammer_list = [],[],[],[],[],[],[]\n",
    "\n",
    "\n",
    "ra_en_astroturf_list ,\n",
    "ra_en_fake_follower_list ,\n",
    "ra_en_financial_list ,\n",
    "ra_en_other_list,\n",
    "ra_en_overall_list ,\n",
    "ra_en_self_declared_list ,\n",
    "ra_en_spammer_list = [],[],[],[],[],[],[]\n",
    "\n",
    "\n",
    "ra_uni_astroturf_list ,\n",
    "ra_uni_fake_follower_list ,\n",
    "ra_uni_financial_list ,\n",
    "ra_uni_other_list,\n",
    "ra_uni_overall_list ,\n",
    "ra_uni_self_declared_list ,\n",
    "ra_uni_spammer_list = [],[],[],[],[],[],[]\n",
    "\n",
    "\n",
    "# Cap English Score\n",
    "cap_en = result['cap']['english']\n",
    "\n",
    "# Cap Universal Score\n",
    "cap_uni = result['cap']['universal']\n",
    "\n",
    "# Display English Scores\n",
    "dis_en_astroturf = result['display_scores']['english']['astroturf']\n",
    "dis_en_fake_follower = result['display_scores']['english']['fake_follower']\n",
    "dis_en_financial = result['display_scores']['english']['financial']\n",
    "dis_en_other = result['display_scores']['english']['other']\n",
    "dis_en_overall = result['display_scores']['english']['overall']\n",
    "dis_en_self_declared = result['display_scores']['english']['self_declared']\n",
    "dis_en_spammer = result['display_scores']['english']['spammer']\n",
    "\n",
    "# Display Universal Scores\n",
    "dis_uni_astroturf = result['display_scores']['universal']['astroturf']\n",
    "dis_uni_fake_follower = result['display_scores']['universal']['fake_follower']\n",
    "dis_uni_financial = result['display_scores']['universal']['financial']\n",
    "dis_uni_other = result['display_scores']['universal']['other']\n",
    "dis_uni_overall = result['display_scores']['universal']['overall']\n",
    "dis_uni_self_declared = result['display_scores']['universal']['self_declared']\n",
    "dis_uni_spammer = result['display_scores']['universal']['spammer']\n",
    "\n",
    "# Raw English Scores\n",
    "ra_en_astroturf = result['raw_scores']['english']['astroturf']\n",
    "ra_en_fake_follower = result['raw_scores']['english']['fake_follower']\n",
    "ra_en_financial = result['raw_scores']['english']['financial']\n",
    "ra_en_other = result['raw_scores']['english']['other']\n",
    "ra_en_overall = result['raw_scores']['english']['overall']\n",
    "ra_en_self_declared = result['raw_scores']['english']['self_declared']\n",
    "ra_en_spammer = result['raw_scores']['english']['spammer']\n",
    "\n",
    "# Raw Universal Scores\n",
    "ra_uni_astroturf = result['raw_scores']['universal']['astroturf']\n",
    "ra_uni_fake_follower = result['raw_scores']['universal']['fake_follower']\n",
    "ra_uni_financial = result['raw_scores']['universal']['financial']\n",
    "ra_uni_other = result['raw_scores']['universal']['other']\n",
    "ra_uni_overall = result['raw_scores']['universal']['overall']\n",
    "ra_uni_self_declared = result['raw_scores']['universal']['self_declared']\n",
    "ra_uni_spammer = result['raw_scores']['universal']['spammer']\n"
   ]
  },
  {
   "cell_type": "code",
   "execution_count": 20,
   "metadata": {},
   "outputs": [
    {
     "name": "stdout",
     "output_type": "stream",
     "text": [
      "0.2787259978325127 0.31739450135566455\n",
      "***************************\n",
      "0.1 0.5 0.1 0.4 0.2 0.0 0.1\n",
      "***************************\n",
      "0.2 0.2 0.2 1.0 0.2 0.0 0.2\n",
      "***************************\n",
      "0.02 0.1 0.02 0.09 0.03 0.0 0.02\n",
      "***************************\n",
      "0.03 0.03 0.03 0.2 0.04 0.0 0.04\n"
     ]
    }
   ],
   "source": [
    "print(cap_en , cap_uni)\n",
    "print('***************************')\n",
    "print(dis_en_astroturf ,\n",
    "dis_en_fake_follower ,\n",
    "dis_en_financial ,\n",
    "dis_en_other,\n",
    "dis_en_overall ,\n",
    "dis_en_self_declared ,\n",
    "dis_en_spammer)\n",
    "print('***************************')\n",
    "print(dis_uni_astroturf ,\n",
    "dis_uni_fake_follower ,\n",
    "dis_uni_financial ,\n",
    "dis_uni_other,\n",
    "dis_uni_overall ,\n",
    "dis_uni_self_declared ,\n",
    "dis_uni_spammer)\n",
    "print('***************************')\n",
    "print(ra_en_astroturf ,\n",
    "ra_en_fake_follower ,\n",
    "ra_en_financial ,\n",
    "ra_en_other,\n",
    "ra_en_overall ,\n",
    "ra_en_self_declared ,\n",
    "ra_en_spammer)\n",
    "print('***************************')\n",
    "print(ra_uni_astroturf ,\n",
    "ra_uni_fake_follower ,\n",
    "ra_uni_financial ,\n",
    "ra_uni_other,\n",
    "ra_uni_overall ,\n",
    "ra_uni_self_declared ,\n",
    "ra_uni_spammer)"
   ]
  },
  {
   "cell_type": "code",
   "execution_count": 9,
   "metadata": {},
   "outputs": [
    {
     "data": {
      "text/plain": [
       "dict_keys(['cap', 'display_scores', 'raw_scores', 'user'])"
      ]
     },
     "execution_count": 9,
     "metadata": {},
     "output_type": "execute_result"
    }
   ],
   "source": [
    "result.keys()"
   ]
  },
  {
   "cell_type": "code",
   "execution_count": null,
   "metadata": {},
   "outputs": [],
   "source": []
  }
 ],
 "metadata": {
  "kernelspec": {
   "display_name": "Python 3",
   "language": "python",
   "name": "python3"
  },
  "language_info": {
   "codemirror_mode": {
    "name": "ipython",
    "version": 3
   },
   "file_extension": ".py",
   "mimetype": "text/x-python",
   "name": "python",
   "nbconvert_exporter": "python",
   "pygments_lexer": "ipython3",
   "version": "3.8.3"
  }
 },
 "nbformat": 4,
 "nbformat_minor": 4
}
