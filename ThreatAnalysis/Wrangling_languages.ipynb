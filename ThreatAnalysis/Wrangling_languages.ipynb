{
 "cells": [
  {
   "cell_type": "markdown",
   "id": "104ea447",
   "metadata": {},
   "source": [
    "# Twitter Data Wrangling \n",
    "MAHMOUD NAGY - MAR 2022"
   ]
  },
  {
   "cell_type": "code",
   "execution_count": 1,
   "id": "adf5aa5d",
   "metadata": {},
   "outputs": [],
   "source": [
    "import pandas as pd\n",
    "import os"
   ]
  },
  {
   "cell_type": "code",
   "execution_count": 2,
   "id": "c8dc85ab",
   "metadata": {},
   "outputs": [
    {
     "name": "stdout",
     "output_type": "stream",
     "text": [
      "/Users/mnagy99/jupyter/AH/Twitter_Bot_Analysis/Twitter_Data\n"
     ]
    }
   ],
   "source": [
    "cd ../../Twitter_Data"
   ]
  },
  {
   "cell_type": "markdown",
   "id": "0071fe98",
   "metadata": {},
   "source": [
    "<br>"
   ]
  },
  {
   "cell_type": "markdown",
   "id": "9e8a15ee",
   "metadata": {},
   "source": [
    "<br>"
   ]
  },
  {
   "cell_type": "markdown",
   "id": "faf05792",
   "metadata": {},
   "source": [
    "# Other Languages Wrangling"
   ]
  },
  {
   "cell_type": "code",
   "execution_count": 3,
   "id": "e088453f",
   "metadata": {},
   "outputs": [],
   "source": [
    "df_merged = pd.read_csv(\"merged_all_years_zip.csv\", compression='zip', lineterminator='\\n')"
   ]
  },
  {
   "cell_type": "code",
   "execution_count": 25,
   "id": "9d22de24",
   "metadata": {},
   "outputs": [
    {
     "data": {
      "text/plain": [
       "#JusticeForJohnnyDepp                            41688\n",
       "#JusticeForJohnnyDepp #AmberHeardIsAnAbuser       1554\n",
       "#AmberHeardIsAnAbuser                             1543\n",
       "#justiceforjohnnydepp                             1482\n",
       "#AmberHeardIsALiar                                1314\n",
       "#JusticeForJohnnyDepp ⚖️                          1303\n",
       "@realamberheard #JusticeForJohnnyDepp              711\n",
       "#JusticeforJohnnyDepp                              706\n",
       "#JusticeForJohnnyDepp \\n#AmberHeardIsAnAbuser      535\n",
       "#JusticeForJohnnyDepp \\n#JohnnyDepp                512\n",
       "Name: text, dtype: int64"
      ]
     },
     "execution_count": 25,
     "metadata": {},
     "output_type": "execute_result"
    }
   ],
   "source": [
    "# check the undefined\n",
    "df_merged[df_merged['lang'] == 'und'].text.value_counts().head(10)"
   ]
  },
  {
   "cell_type": "code",
   "execution_count": 26,
   "id": "d62f492a",
   "metadata": {},
   "outputs": [
    {
     "data": {
      "text/plain": [
       "(173082, 22)"
      ]
     },
     "execution_count": 26,
     "metadata": {},
     "output_type": "execute_result"
    }
   ],
   "source": [
    "df_merged[df_merged['lang'] == 'und'].shape"
   ]
  },
  {
   "cell_type": "code",
   "execution_count": 27,
   "id": "01992d57",
   "metadata": {},
   "outputs": [
    {
     "name": "stdout",
     "output_type": "stream",
     "text": [
      "(143304, 22)\n"
     ]
    }
   ],
   "source": [
    "df_threat_others = df_merged[(df_merged['lang'] != 'en') & (df_merged['lang'] != 'und')]\n",
    "print(df_threat_others.shape)"
   ]
  },
  {
   "cell_type": "code",
   "execution_count": 28,
   "id": "4e0bfd85",
   "metadata": {},
   "outputs": [],
   "source": [
    "# Add A Translation Column\n",
    "import mtranslate\n",
    "\n",
    "def translate(x):\n",
    "    try:\n",
    "        translated = mtranslate.translate(x,\"en\",\"auto\")\n",
    "    except:\n",
    "        translated = 'not_translated'\n",
    "    return translated"
   ]
  },
  {
   "cell_type": "code",
   "execution_count": 29,
   "id": "108b3f73",
   "metadata": {},
   "outputs": [
    {
     "name": "stderr",
     "output_type": "stream",
     "text": [
      "<ipython-input-29-d86baf97233e>:3: SettingWithCopyWarning: \n",
      "A value is trying to be set on a copy of a slice from a DataFrame.\n",
      "Try using .loc[row_indexer,col_indexer] = value instead\n",
      "\n",
      "See the caveats in the documentation: https://pandas.pydata.org/pandas-docs/stable/user_guide/indexing.html#returning-a-view-versus-a-copy\n",
      "  df_threat_others['translated'] = df_threat_others.text.apply(lambda x: translate(x))\n"
     ]
    },
    {
     "data": {
      "text/plain": [
       "19.811731179753938"
      ]
     },
     "execution_count": 29,
     "metadata": {},
     "output_type": "execute_result"
    }
   ],
   "source": [
    "import time\n",
    "t0 = time.time()\n",
    "df_threat_others['translated'] = df_threat_others.text.apply(lambda x: translate(x))\n",
    "(time.time() - t0) /3600"
   ]
  },
  {
   "cell_type": "code",
   "execution_count": 30,
   "id": "3da42e9e",
   "metadata": {},
   "outputs": [
    {
     "data": {
      "text/plain": [
       "(10091, 23)"
      ]
     },
     "execution_count": 30,
     "metadata": {},
     "output_type": "execute_result"
    }
   ],
   "source": [
    "df_threat_others[df_threat_others.translated == 'not_translated'].shape"
   ]
  },
  {
   "cell_type": "markdown",
   "id": "cc24dd66",
   "metadata": {},
   "source": [
    "# Create two data frames then join to translate the remaining text"
   ]
  },
  {
   "cell_type": "code",
   "execution_count": 31,
   "id": "91091df7",
   "metadata": {},
   "outputs": [
    {
     "data": {
      "text/plain": [
       "(133213, 23)"
      ]
     },
     "execution_count": 31,
     "metadata": {},
     "output_type": "execute_result"
    }
   ],
   "source": [
    "df_translated = df_threat_others[df_threat_others['translated'] != 'not_translated']\n",
    "df_translated.shape"
   ]
  },
  {
   "cell_type": "code",
   "execution_count": 32,
   "id": "c9d3b882",
   "metadata": {},
   "outputs": [
    {
     "data": {
      "text/plain": [
       "(10091, 23)"
      ]
     },
     "execution_count": 32,
     "metadata": {},
     "output_type": "execute_result"
    }
   ],
   "source": [
    "df_not_translated = df_threat_others[df_threat_others['translated'] == 'not_translated']\n",
    "df_not_translated.shape"
   ]
  },
  {
   "cell_type": "code",
   "execution_count": 33,
   "id": "a5f59a09",
   "metadata": {},
   "outputs": [
    {
     "name": "stderr",
     "output_type": "stream",
     "text": [
      "<ipython-input-33-57fde3d2e6c5>:3: SettingWithCopyWarning: \n",
      "A value is trying to be set on a copy of a slice from a DataFrame.\n",
      "Try using .loc[row_indexer,col_indexer] = value instead\n",
      "\n",
      "See the caveats in the documentation: https://pandas.pydata.org/pandas-docs/stable/user_guide/indexing.html#returning-a-view-versus-a-copy\n",
      "  df_not_translated['translated'] = df_not_translated.text.apply(lambda x: translate(x))\n"
     ]
    },
    {
     "data": {
      "text/plain": [
       "1.3790832949346967"
      ]
     },
     "execution_count": 33,
     "metadata": {},
     "output_type": "execute_result"
    }
   ],
   "source": [
    "import time\n",
    "t0 = time.time()\n",
    "df_not_translated['translated'] = df_not_translated.text.apply(lambda x: translate(x))\n",
    "(time.time() - t0) /3600"
   ]
  },
  {
   "cell_type": "code",
   "execution_count": 34,
   "id": "1f3b4f76",
   "metadata": {},
   "outputs": [
    {
     "data": {
      "text/plain": [
       "(143304, 23)"
      ]
     },
     "execution_count": 34,
     "metadata": {},
     "output_type": "execute_result"
    }
   ],
   "source": [
    "# join dataframes and sort by date\n",
    "df_threat_others = pd.concat([df_translated, df_not_translated])\n",
    "df_threat_others = df_threat_others.sort_values('created_at')\n",
    "df_threat_others.shape"
   ]
  },
  {
   "cell_type": "code",
   "execution_count": 35,
   "id": "0fbe2018",
   "metadata": {},
   "outputs": [
    {
     "data": {
      "text/plain": [
       "(0, 23)"
      ]
     },
     "execution_count": 35,
     "metadata": {},
     "output_type": "execute_result"
    }
   ],
   "source": [
    "df_not_translated = df_threat_others[df_threat_others['translated'] == 'not_translated']\n",
    "df_not_translated.shape"
   ]
  },
  {
   "cell_type": "code",
   "execution_count": 36,
   "id": "1a71b706",
   "metadata": {},
   "outputs": [],
   "source": [
    "df_threat_others.to_csv(\"other_languages.csv\", index=False)"
   ]
  },
  {
   "cell_type": "markdown",
   "id": "343574e5",
   "metadata": {},
   "source": [
    "<br>"
   ]
  },
  {
   "cell_type": "markdown",
   "id": "8451c63a",
   "metadata": {},
   "source": [
    "# Load Data"
   ]
  },
  {
   "cell_type": "code",
   "execution_count": 4,
   "id": "4e5f8ab6",
   "metadata": {},
   "outputs": [
    {
     "name": "stdout",
     "output_type": "stream",
     "text": [
      "(143304, 24)\n"
     ]
    },
    {
     "data": {
      "text/html": [
       "<div>\n",
       "<style scoped>\n",
       "    .dataframe tbody tr th:only-of-type {\n",
       "        vertical-align: middle;\n",
       "    }\n",
       "\n",
       "    .dataframe tbody tr th {\n",
       "        vertical-align: top;\n",
       "    }\n",
       "\n",
       "    .dataframe thead th {\n",
       "        text-align: right;\n",
       "    }\n",
       "</style>\n",
       "<table border=\"1\" class=\"dataframe\">\n",
       "  <thead>\n",
       "    <tr style=\"text-align: right;\">\n",
       "      <th></th>\n",
       "      <th>user_description</th>\n",
       "      <th>username</th>\n",
       "      <th>n_followers</th>\n",
       "      <th>text</th>\n",
       "      <th>profile_banner_url</th>\n",
       "      <th>user_location</th>\n",
       "      <th>user_id</th>\n",
       "      <th>user_created_at</th>\n",
       "      <th>profile_image_url</th>\n",
       "      <th>n_friends</th>\n",
       "      <th>...</th>\n",
       "      <th>tweet_id</th>\n",
       "      <th>user_screen_name</th>\n",
       "      <th>date</th>\n",
       "      <th>year</th>\n",
       "      <th>month</th>\n",
       "      <th>dayofmonth</th>\n",
       "      <th>diff</th>\n",
       "      <th>days_diff</th>\n",
       "      <th>translated</th>\n",
       "      <th>hours_diff</th>\n",
       "    </tr>\n",
       "  </thead>\n",
       "  <tbody>\n",
       "    <tr>\n",
       "      <th>0</th>\n",
       "      <td>28. dark and twisty♡ taking it sleazy✌🏻 tv sho...</td>\n",
       "      <td>Caro</td>\n",
       "      <td>3427</td>\n",
       "      <td>Amber Heard anduvo en Chilito?</td>\n",
       "      <td>https://pbs.twimg.com/profile_banners/10562024...</td>\n",
       "      <td>Santiago, Chile</td>\n",
       "      <td>105620244</td>\n",
       "      <td>2010-01-16 23:16:06</td>\n",
       "      <td>http://pbs.twimg.com/profile_images/1378557216...</td>\n",
       "      <td>3556</td>\n",
       "      <td>...</td>\n",
       "      <td>947652598630404101</td>\n",
       "      <td>iCaaroooh</td>\n",
       "      <td>2018-01-01</td>\n",
       "      <td>2018</td>\n",
       "      <td>Jan</td>\n",
       "      <td>1</td>\n",
       "      <td>2906 days 02:59:54</td>\n",
       "      <td>2906</td>\n",
       "      <td>Amber Heard anduvo en Chilito?\\r</td>\n",
       "      <td>2</td>\n",
       "    </tr>\n",
       "  </tbody>\n",
       "</table>\n",
       "<p>1 rows × 24 columns</p>\n",
       "</div>"
      ],
      "text/plain": [
       "                                    user_description username  n_followers  \\\n",
       "0  28. dark and twisty♡ taking it sleazy✌🏻 tv sho...     Caro         3427   \n",
       "\n",
       "                             text  \\\n",
       "0  Amber Heard anduvo en Chilito?   \n",
       "\n",
       "                                  profile_banner_url    user_location  \\\n",
       "0  https://pbs.twimg.com/profile_banners/10562024...  Santiago, Chile   \n",
       "\n",
       "     user_id      user_created_at  \\\n",
       "0  105620244  2010-01-16 23:16:06   \n",
       "\n",
       "                                   profile_image_url  n_friends  ...  \\\n",
       "0  http://pbs.twimg.com/profile_images/1378557216...       3556  ...   \n",
       "\n",
       "             tweet_id user_screen_name        date  year  month dayofmonth  \\\n",
       "0  947652598630404101        iCaaroooh  2018-01-01  2018    Jan          1   \n",
       "\n",
       "                 diff  days_diff                        translated  hours_diff  \n",
       "0  2906 days 02:59:54       2906  Amber Heard anduvo en Chilito?\\r           2  \n",
       "\n",
       "[1 rows x 24 columns]"
      ]
     },
     "execution_count": 4,
     "metadata": {},
     "output_type": "execute_result"
    }
   ],
   "source": [
    "df_threat_others = pd.read_csv(\"other_languages.csv\", lineterminator='\\n')\n",
    "df_threat_others.rename(columns={'translated\\r': 'translated'}, inplace=True)\n",
    "print(df_threat_others.shape)\n",
    "df_threat_others.head(1)"
   ]
  },
  {
   "cell_type": "markdown",
   "id": "cc099886",
   "metadata": {},
   "source": [
    "# Normalize text and Translated Text"
   ]
  },
  {
   "cell_type": "code",
   "execution_count": 5,
   "id": "46b94e26",
   "metadata": {},
   "outputs": [],
   "source": [
    "df_threat_others['text'] = df_threat_others['text'].str.lower()\n",
    "df_threat_others['translated'] = df_threat_others['translated'].str.lower()"
   ]
  },
  {
   "cell_type": "code",
   "execution_count": 6,
   "id": "2af5a94c",
   "metadata": {},
   "outputs": [
    {
     "name": "stdout",
     "output_type": "stream",
     "text": [
      "<class 'pandas.core.frame.DataFrame'>\n",
      "RangeIndex: 143304 entries, 0 to 143303\n",
      "Data columns (total 24 columns):\n",
      " #   Column              Non-Null Count   Dtype \n",
      "---  ------              --------------   ----- \n",
      " 0   user_description    127062 non-null  object\n",
      " 1   username            143288 non-null  object\n",
      " 2   n_followers         143304 non-null  int64 \n",
      " 3   text                143304 non-null  object\n",
      " 4   profile_banner_url  132198 non-null  object\n",
      " 5   user_location       96680 non-null   object\n",
      " 6   user_id             143304 non-null  int64 \n",
      " 7   user_created_at     143304 non-null  object\n",
      " 8   profile_image_url   143295 non-null  object\n",
      " 9   n_friends           143304 non-null  int64 \n",
      " 10  lang                143304 non-null  object\n",
      " 11  user_url            59928 non-null   object\n",
      " 12  created_at          143304 non-null  object\n",
      " 13  n_statuses          143304 non-null  int64 \n",
      " 14  tweet_id            143304 non-null  int64 \n",
      " 15  user_screen_name    143304 non-null  object\n",
      " 16  date                143304 non-null  object\n",
      " 17  year                143304 non-null  int64 \n",
      " 18  month               143304 non-null  object\n",
      " 19  dayofmonth          143304 non-null  int64 \n",
      " 20  diff                143304 non-null  object\n",
      " 21  days_diff           143304 non-null  int64 \n",
      " 22  translated          143304 non-null  object\n",
      " 23  hours_diff          143304 non-null  int64 \n",
      "dtypes: int64(9), object(15)\n",
      "memory usage: 26.2+ MB\n"
     ]
    }
   ],
   "source": [
    "df_threat_others.info()"
   ]
  },
  {
   "cell_type": "code",
   "execution_count": 11,
   "id": "1b62fac3",
   "metadata": {},
   "outputs": [],
   "source": [
    "# change dtypes\n",
    "df_threat_others['user_id'] = df_threat_others['user_id'].astype('str')\n",
    "df_threat_others['tweet_id'] = df_threat_others['tweet_id'].astype('str')\n",
    "\n",
    "# use format=\"%Y-%m-%d %H:%M:%S+00:00 to remove the +00:00\n",
    "df_threat_others[\"created_at\"] = pd.to_datetime(df_threat_others[\"created_at\"])\n",
    "df_threat_others[\"user_created_at\"] = pd.to_datetime(df_threat_others[\"user_created_at\"])"
   ]
  },
  {
   "cell_type": "code",
   "execution_count": 12,
   "id": "6d91ae91",
   "metadata": {},
   "outputs": [],
   "source": [
    "# Adding year, month, dayofmonth and a diff columns\n",
    "df_threat_others[\"date\"] = df_threat_others[\"created_at\"].dt.date\n",
    "df_threat_others[\"year\"] = df_threat_others[\"created_at\"].dt.year\n",
    "df_threat_others[\"month\"] = df_threat_others[\"created_at\"].dt.strftime(\"%b\")\n",
    "df_threat_others[\"dayofmonth\"] = df_threat_others[\"created_at\"].dt.day\n",
    "# df_merged[\"hour\"] = df_merged[\"created_at\"].dt.hour\n",
    "df_threat_others[\"diff\"] = df_threat_others[\"created_at\"] - df_threat_others[\"user_created_at\"]\n",
    "df_threat_others[\"days_diff\"] = df_threat_others[\"diff\"].dt.days\n",
    "df_threat_others[\"hours_diff\"] = df_threat_others[\"diff\"].dt.components['hours']"
   ]
  },
  {
   "cell_type": "code",
   "execution_count": 14,
   "id": "740fe8b9",
   "metadata": {},
   "outputs": [
    {
     "data": {
      "text/html": [
       "<div>\n",
       "<style scoped>\n",
       "    .dataframe tbody tr th:only-of-type {\n",
       "        vertical-align: middle;\n",
       "    }\n",
       "\n",
       "    .dataframe tbody tr th {\n",
       "        vertical-align: top;\n",
       "    }\n",
       "\n",
       "    .dataframe thead th {\n",
       "        text-align: right;\n",
       "    }\n",
       "</style>\n",
       "<table border=\"1\" class=\"dataframe\">\n",
       "  <thead>\n",
       "    <tr style=\"text-align: right;\">\n",
       "      <th></th>\n",
       "      <th>user_description</th>\n",
       "      <th>username</th>\n",
       "      <th>n_followers</th>\n",
       "      <th>text</th>\n",
       "      <th>profile_banner_url</th>\n",
       "      <th>user_location</th>\n",
       "      <th>user_id</th>\n",
       "      <th>user_created_at</th>\n",
       "      <th>profile_image_url</th>\n",
       "      <th>n_friends</th>\n",
       "      <th>...</th>\n",
       "      <th>tweet_id</th>\n",
       "      <th>user_screen_name</th>\n",
       "      <th>date</th>\n",
       "      <th>year</th>\n",
       "      <th>month</th>\n",
       "      <th>dayofmonth</th>\n",
       "      <th>diff</th>\n",
       "      <th>days_diff</th>\n",
       "      <th>translated</th>\n",
       "      <th>hours_diff</th>\n",
       "    </tr>\n",
       "  </thead>\n",
       "  <tbody>\n",
       "    <tr>\n",
       "      <th>0</th>\n",
       "      <td>28. dark and twisty♡ taking it sleazy✌🏻 tv sho...</td>\n",
       "      <td>Caro</td>\n",
       "      <td>3427</td>\n",
       "      <td>amber heard anduvo en chilito?</td>\n",
       "      <td>https://pbs.twimg.com/profile_banners/10562024...</td>\n",
       "      <td>Santiago, Chile</td>\n",
       "      <td>105620244</td>\n",
       "      <td>2010-01-16 23:16:06</td>\n",
       "      <td>http://pbs.twimg.com/profile_images/1378557216...</td>\n",
       "      <td>3556</td>\n",
       "      <td>...</td>\n",
       "      <td>947652598630404101</td>\n",
       "      <td>iCaaroooh</td>\n",
       "      <td>2018-01-01</td>\n",
       "      <td>2018</td>\n",
       "      <td>Jan</td>\n",
       "      <td>1</td>\n",
       "      <td>2906 days 02:59:54</td>\n",
       "      <td>2906</td>\n",
       "      <td>amber heard anduvo en chilito?\\r</td>\n",
       "      <td>2</td>\n",
       "    </tr>\n",
       "  </tbody>\n",
       "</table>\n",
       "<p>1 rows × 24 columns</p>\n",
       "</div>"
      ],
      "text/plain": [
       "                                    user_description username  n_followers  \\\n",
       "0  28. dark and twisty♡ taking it sleazy✌🏻 tv sho...     Caro         3427   \n",
       "\n",
       "                             text  \\\n",
       "0  amber heard anduvo en chilito?   \n",
       "\n",
       "                                  profile_banner_url    user_location  \\\n",
       "0  https://pbs.twimg.com/profile_banners/10562024...  Santiago, Chile   \n",
       "\n",
       "     user_id     user_created_at  \\\n",
       "0  105620244 2010-01-16 23:16:06   \n",
       "\n",
       "                                   profile_image_url  n_friends  ...  \\\n",
       "0  http://pbs.twimg.com/profile_images/1378557216...       3556  ...   \n",
       "\n",
       "             tweet_id user_screen_name        date  year month dayofmonth  \\\n",
       "0  947652598630404101        iCaaroooh  2018-01-01  2018   Jan          1   \n",
       "\n",
       "                diff  days_diff                        translated  hours_diff  \n",
       "0 2906 days 02:59:54       2906  amber heard anduvo en chilito?\\r           2  \n",
       "\n",
       "[1 rows x 24 columns]"
      ]
     },
     "execution_count": 14,
     "metadata": {},
     "output_type": "execute_result"
    }
   ],
   "source": [
    "df_threat_others.head(1)"
   ]
  },
  {
   "cell_type": "code",
   "execution_count": 15,
   "id": "c61f0ed5",
   "metadata": {},
   "outputs": [],
   "source": [
    "df_threat_others.to_csv(\"other_languages.csv\", index=False)"
   ]
  },
  {
   "cell_type": "code",
   "execution_count": null,
   "id": "3b13aee6",
   "metadata": {},
   "outputs": [],
   "source": []
  }
 ],
 "metadata": {
  "kernelspec": {
   "display_name": "Python 3 (ipykernel)",
   "language": "python",
   "name": "python3"
  },
  "language_info": {
   "codemirror_mode": {
    "name": "ipython",
    "version": 3
   },
   "file_extension": ".py",
   "mimetype": "text/x-python",
   "name": "python",
   "nbconvert_exporter": "python",
   "pygments_lexer": "ipython3",
   "version": "3.8.12"
  }
 },
 "nbformat": 4,
 "nbformat_minor": 5
}
